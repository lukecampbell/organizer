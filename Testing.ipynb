{
 "metadata": {
  "name": ""
 },
 "nbformat": 3,
 "nbformat_minor": 0,
 "worksheets": [
  {
   "cells": [
    {
     "cell_type": "code",
     "collapsed": false,
     "input": [
      "import os\n",
      "filepath = 'emails.db'\n",
      "if os.path.exists(filepath):\n",
      "    os.remove(filepath)\n",
      "\n"
     ],
     "language": "python",
     "metadata": {},
     "outputs": [],
     "prompt_number": 1
    },
    {
     "cell_type": "code",
     "collapsed": false,
     "input": [
      "from connectors.sqlite import sqlite_engine, sqlite_session\n",
      "\n",
      "engine = sqlite_engine(filepath,echo=False)\n",
      "session = sqlite_session(engine)\n"
     ],
     "language": "python",
     "metadata": {},
     "outputs": [],
     "prompt_number": 2
    },
    {
     "cell_type": "code",
     "collapsed": true,
     "input": [
      "from models.emails import Email\n",
      "from models.threads import Thread\n",
      "from models.jiratasks import JiraTask\n",
      "from models.wunderlists import WunderList, WunderTask\n",
      "from models.base import Base\n",
      "\n",
      "Base.metadata.create_all(engine)\n"
     ],
     "language": "python",
     "metadata": {},
     "outputs": [],
     "prompt_number": 3
    },
    {
     "cell_type": "code",
     "collapsed": true,
     "input": [
      "from scrapers.emails import inbox_path, fetch\n",
      "\n",
      "fetch(session, inbox_path)\n"
     ],
     "language": "python",
     "metadata": {},
     "outputs": [],
     "prompt_number": 4
    },
    {
     "cell_type": "code",
     "collapsed": false,
     "input": [
      "import yaml\n",
      "with open('config/jira.yml', 'r') as f:\n",
      "    options = yaml.load(f.read())\n",
      "\n",
      "auth_string = options['auth_string']\n",
      "feed = options['feed']"
     ],
     "language": "python",
     "metadata": {},
     "outputs": [],
     "prompt_number": 5
    },
    {
     "cell_type": "code",
     "collapsed": false,
     "input": [
      "from scrapers.jiratasks import fetch\n",
      "fetch(session, feed, auth_string)"
     ],
     "language": "python",
     "metadata": {},
     "outputs": [],
     "prompt_number": 6
    },
    {
     "cell_type": "code",
     "collapsed": true,
     "input": [
      "for task in session.query(JiraTask).order_by(JiraTask.priority):\n",
      "    print '(%s): %s' % (task.priority, task.title)"
     ],
     "language": "python",
     "metadata": {},
     "outputs": [
      {
       "output_type": "stream",
       "stream": "stdout",
       "text": [
        "(3): [OOIION-1381] TMPSF Engineering\n",
        "(3): [CIDEVSTC-266] Create libraries for data transfer\n",
        "(3): [OOIION-1405] data retriever/dataset management blocks gevent between 5 to 15 seconds retrieving coverage as a result of 150 ingested glider files\n",
        "(4): [OOIION-1320] M047 milestone requires a serializer lib for python notebook integration\n",
        "(4): [OOIION-1346] qc_post_processor failed to read dataset every hour\n",
        "(4): [OOIION-1377] Retrieve Error: Broadcasting shapes incorrectly\n",
        "(4): [OOIION-1380] Empty Retrieve Issue\n",
        "(4): [OOIION-1390] Problem Registering Dataset\n",
        "(4): [OOIION-1411] Expanding Test Coverage: Overlapping Data\n",
        "(4): [OOIION-1412] test_get_dataset_to_xml fails on CentOS machines\n",
        "(6): [CIDEVSTC-268] Prototype framework to align datasets on temporal axis and group under a complex coverage\n",
        "(6): [CIDEVSTC-273] Define and prototype integration toolkit\n",
        "(7): [CIDEVSTC-267] Create DAP channel for data retrieval for notebook\n",
        "(7): [CIDEVSTC-269] Prototype generalized upload utility and conventions\n",
        "(8): [CIDEVSTC-265] Provide protoype notebook results push channel via service gateway\n"
       ]
      }
     ],
     "prompt_number": 7
    },
    {
     "cell_type": "code",
     "collapsed": false,
     "input": [
      "import yaml\n",
      "with open('config/wunderlist.yml', 'r') as f:\n",
      "    options = yaml.load(f.read())\n",
      "    \n",
      "auth_string = options['auth_string']"
     ],
     "language": "python",
     "metadata": {},
     "outputs": [],
     "prompt_number": 8
    }
   ],
   "metadata": {}
  }
 ]
}